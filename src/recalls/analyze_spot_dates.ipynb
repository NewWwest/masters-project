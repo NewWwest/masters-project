{
 "cells": [
  {
   "cell_type": "code",
   "execution_count": 10,
   "metadata": {},
   "outputs": [],
   "source": [
    "import json\n",
    "import dateutil.parser as parser\n",
    "from statistics import mean, median\n",
    "\n",
    "seconds_in_a_day = 24*3600\n",
    "with open(r'D:\\Projects\\aaadoc\\src\\recalls\\data\\revall_analysis.json', 'r') as f:\n",
    "    recall_data = json.load(f)\n"
   ]
  },
  {
   "cell_type": "code",
   "execution_count": 11,
   "metadata": {},
   "outputs": [],
   "source": [
    "all_subset = recall_data\n",
    "npm_subset = {k:v for k,v in recall_data.items() if 'ecosystem' in v and 'npm' in v['ecosystem']}\n",
    "pypi_subset = {k:v for k,v in recall_data.items() if 'ecosystem' in v and 'pypi' in v['ecosystem']}\n",
    "mvn_subset = {k:v for k,v in recall_data.items() if 'ecosystem' in v and 'maven' in v['ecosystem']}"
   ]
  },
  {
   "cell_type": "markdown",
   "metadata": {},
   "source": [
    "All entities - first reference to GitHub"
   ]
  },
  {
   "cell_type": "code",
   "execution_count": 12,
   "metadata": {},
   "outputs": [],
   "source": [
    "def calculate_delay(delays_data_subset, date_key, label):\n",
    "    for x in delays_data_subset:\n",
    "        if 'creation_date' in delays_data_subset[x] and delays_data_subset[x]['creation_date'] and date_key in delays_data_subset[x] and delays_data_subset[x][date_key]:\n",
    "            creation_date = parser.parse(delays_data_subset[x]['creation_date'])\n",
    "            ref_date = min([parser.parse(y[1])for y in delays_data_subset[x][date_key]])\n",
    "            diff = creation_date-ref_date\n",
    "            delays = diff.total_seconds()/seconds_in_a_day\n",
    "            delays_data_subset[x][f'{date_key}_diff'] = delays\n",
    "        \n",
    "    ids_all = len([1 for x in delays_data_subset if 'creation_date' in delays_data_subset[x] and delays_data_subset[x]['creation_date']])\n",
    "    ids_with_diffs = len([1 for x in delays_data_subset if f'{date_key}_diff' in delays_data_subset[x]])\n",
    "    ids_with_positive_diffs = len([1 for x in delays_data_subset if f'{date_key}_diff' in delays_data_subset[x] and delays_data_subset[x][f'{date_key}_diff']>0])\n",
    "    ids_with_week_old_diffs = len([1 for x in delays_data_subset if f'{date_key}_diff' in delays_data_subset[x] and delays_data_subset[x][f'{date_key}_diff']>7])\n",
    "\n",
    "    diffs = [delays_data_subset[x][f'{date_key}_diff'] for x in delays_data_subset if f'{date_key}_diff' in delays_data_subset[x]]\n",
    "\n",
    "    print(label)\n",
    "    print(date_key)\n",
    "    print('count', ids_with_diffs)\n",
    "    print('median', median(diffs))\n",
    "    print('recall at 0', ids_with_positive_diffs/ids_all)\n",
    "    print('recall at 7', ids_with_week_old_diffs/ids_all)"
   ]
  },
  {
   "cell_type": "code",
   "execution_count": null,
   "metadata": {},
   "outputs": [],
   "source": [
    "def calculate_delays_ref(delays_data_subset, date_key, label):\n",
    "    for x in delays_data_subset:\n",
    "        if 'creation_date' in delays_data_subset[x] and delays_data_subset[x]['creation_date'] and date_key in delays_data_subset[x] and delays_data_subset[x][date_key]:\n",
    "            creation_date = parser.parse(delays_data_subset[x]['creation_date'])\n",
    "            ref_date = min([parser.parse(y[1])for y in delays_data_subset[x][date_key]])\n",
    "            diff = creation_date-ref_date\n",
    "            delays = diff.total_seconds()/seconds_in_a_day\n",
    "            delays_data_subset[x][f'{date_key}_diff'] = delays\n",
    "        \n",
    "    ids_with_refs = len([1 for x in delays_data_subset if ('first_issue' in delays_data_subset[x] and delays_data_subset[x]['first_issue']) or ('first_commit' in delays_data_subset[x] and delays_data_subset[x]['first_commit'])])\n",
    "    ids_with_diffs = len([1 for x in delays_data_subset if f'{date_key}_diff' in delays_data_subset[x]])\n",
    "    ids_with_positive_diffs = len([1 for x in delays_data_subset if f'{date_key}_diff' in delays_data_subset[x] and delays_data_subset[x][f'{date_key}_diff']>0])\n",
    "    ids_with_week_old_diffs = len([1 for x in delays_data_subset if f'{date_key}_diff' in delays_data_subset[x] and delays_data_subset[x][f'{date_key}_diff']>7])\n",
    "\n",
    "    diffs = [delays_data_subset[x][f'{date_key}_diff'] for x in delays_data_subset if f'{date_key}_diff' in delays_data_subset[x]]\n",
    "\n",
    "    print(label)\n",
    "    print(date_key)\n",
    "    print('count', ids_with_diffs)\n",
    "    print('median', median(diffs))\n",
    "    print('recall at 0', ids_with_positive_diffs/ids_with_refs)\n",
    "    print('recall at 7', ids_with_week_old_diffs/ids_with_refs)\n",
    "    print('recall at 30', ids_with_week_old_diffs/ids_with_refs)"
   ]
  },
  {
   "cell_type": "code",
   "execution_count": 13,
   "metadata": {},
   "outputs": [],
   "source": [
    "def calculate_delays_issues(delays_data_subset, date_key, label):\n",
    "    for x in delays_data_subset:\n",
    "        if 'creation_date' in delays_data_subset[x] and delays_data_subset[x]['creation_date'] and date_key in delays_data_subset[x] and delays_data_subset[x][date_key]:\n",
    "            creation_date = parser.parse(delays_data_subset[x]['creation_date'])\n",
    "            ref_date = min([parser.parse(y[1])for y in delays_data_subset[x][date_key]])\n",
    "            diff = creation_date-ref_date\n",
    "            delays = diff.total_seconds()/seconds_in_a_day\n",
    "            delays_data_subset[x][f'{date_key}_diff'] = delays\n",
    "        \n",
    "    ids_with_issues = len([1 for x in delays_data_subset if ('first_issue' in delays_data_subset[x] and delays_data_subset[x]['first_issue'])])\n",
    "    ids_with_diffs = len([1 for x in delays_data_subset if f'{date_key}_diff' in delays_data_subset[x]])\n",
    "    ids_with_positive_diffs = len([1 for x in delays_data_subset if f'{date_key}_diff' in delays_data_subset[x] and delays_data_subset[x][f'{date_key}_diff']>0])\n",
    "    ids_with_week_old_diffs = len([1 for x in delays_data_subset if f'{date_key}_diff' in delays_data_subset[x] and delays_data_subset[x][f'{date_key}_diff']>7])\n",
    "\n",
    "    diffs = [delays_data_subset[x][f'{date_key}_diff'] for x in delays_data_subset if f'{date_key}_diff' in delays_data_subset[x]]\n",
    "\n",
    "    print(label)\n",
    "    print(date_key)\n",
    "    print('count', ids_with_diffs)\n",
    "    print('median', median(diffs))\n",
    "    print('recall at 0', ids_with_positive_diffs/ids_with_issues)\n",
    "    print('recall at 7', ids_with_week_old_diffs/ids_with_issues)\n",
    "    print('recall at 30', ids_with_week_old_diffs/ids_with_issues)"
   ]
  },
  {
   "cell_type": "code",
   "execution_count": 14,
   "metadata": {},
   "outputs": [
    {
     "name": "stdout",
     "output_type": "stream",
     "text": [
      "All\n",
      "first_ref\n",
      "count 20167\n",
      "median 21.00922453703704\n",
      "recall at 0 0.14276861161134158\n",
      "recall at 7 0.09784264977143316\n",
      "npm\n",
      "first_ref\n",
      "count 1692\n",
      "median 15.69556712962963\n",
      "recall at 0 0.37735849056603776\n",
      "recall at 7 0.23778131393498522\n",
      "pypi\n",
      "first_ref\n",
      "count 3097\n",
      "median 17.979872685185185\n",
      "recall at 0 0.6909542070832393\n",
      "recall at 7 0.5289871418903677\n",
      "mvn\n",
      "first_ref\n",
      "count 886\n",
      "median 42.344988425925926\n",
      "recall at 0 0.24525139664804468\n",
      "recall at 7 0.18268156424581006\n"
     ]
    }
   ],
   "source": [
    "def first_ref(delays_data_subset, label):\n",
    "    calculate_delay(delays_data_subset, 'first_ref', label)\n",
    "\n",
    "first_ref(recall_data, 'All')\n",
    "first_ref(npm_subset, 'npm')\n",
    "first_ref(pypi_subset, 'pypi')\n",
    "first_ref(mvn_subset, 'mvn')"
   ]
  },
  {
   "cell_type": "code",
   "execution_count": 15,
   "metadata": {},
   "outputs": [
    {
     "name": "stdout",
     "output_type": "stream",
     "text": [
      "All\n",
      "first_issue\n",
      "count 9991\n",
      "median 27.555833333333332\n",
      "recall at 0 0.07103434699873869\n",
      "recall at 7 0.050364904964311494\n",
      "npm\n",
      "first_issue\n",
      "count 666\n",
      "median 32.81415509259259\n",
      "recall at 0 0.14639690838827008\n",
      "recall at 7 0.1118436008183678\n",
      "pypi\n",
      "first_issue\n",
      "count 871\n",
      "median 40.189988425925925\n",
      "recall at 0 0.19309722535528986\n",
      "recall at 7 0.14730430859463117\n",
      "mvn\n",
      "first_issue\n",
      "count 518\n",
      "median 38.603402777777774\n",
      "recall at 0 0.1441340782122905\n",
      "recall at 7 0.10698324022346369\n"
     ]
    }
   ],
   "source": [
    "def first_issue(delays_data_subset, label):\n",
    "    calculate_delay(delays_data_subset, 'first_issue', label)\n",
    "\n",
    "first_issue(recall_data, 'All')\n",
    "first_issue(npm_subset, 'npm')\n",
    "first_issue(pypi_subset, 'pypi')\n",
    "first_issue(mvn_subset, 'mvn')"
   ]
  },
  {
   "cell_type": "code",
   "execution_count": 16,
   "metadata": {},
   "outputs": [
    {
     "name": "stdout",
     "output_type": "stream",
     "text": [
      "All\n",
      "first_commit\n",
      "count 14794\n",
      "median 16.68552083333333\n",
      "recall at 0 0.10003718312323653\n",
      "recall at 7 0.06950327721841075\n",
      "npm\n",
      "first_commit\n",
      "count 1512\n",
      "median 12.057384259259258\n",
      "recall at 0 0.3314389634007729\n",
      "recall at 7 0.20413730393271198\n",
      "pypi\n",
      "first_commit\n",
      "count 2841\n",
      "median 16.11420138888889\n",
      "recall at 0 0.6124520640649673\n",
      "recall at 7 0.47710354161967067\n",
      "mvn\n",
      "first_commit\n",
      "count 636\n",
      "median 49.11052662037037\n",
      "recall at 0 0.16927374301675976\n",
      "recall at 7 0.13324022346368716\n"
     ]
    }
   ],
   "source": [
    "def first_commit(delays_data_subset, label):\n",
    "    calculate_delay(delays_data_subset, 'first_commit', label)\n",
    "\n",
    "first_commit(recall_data, 'All')\n",
    "first_commit(npm_subset, 'npm')\n",
    "first_commit(pypi_subset, 'pypi')\n",
    "first_commit(mvn_subset, 'mvn')"
   ]
  },
  {
   "cell_type": "code",
   "execution_count": 17,
   "metadata": {},
   "outputs": [
    {
     "name": "stdout",
     "output_type": "stream",
     "text": [
      "All\n",
      "first_sec_phrase\n",
      "count ALL 10504\n",
      "count 12494\n",
      "median 22.324172453703703\n",
      "recall at 0 1.1570830159939072\n",
      "recall at 7 0.79503046458492\n",
      "recall at 30 0.79503046458492\n",
      "npm\n",
      "first_sec_phrase\n",
      "count ALL 666\n",
      "count 887\n",
      "median 16.86380787037037\n",
      "recall at 0 1.3018018018018018\n",
      "recall at 7 0.8543543543543544\n",
      "recall at 30 0.8543543543543544\n",
      "pypi\n",
      "first_sec_phrase\n",
      "count ALL 871\n",
      "count 1474\n",
      "median 21.10478009259259\n",
      "recall at 0 1.6704936854190586\n",
      "recall at 7 1.1871412169919633\n",
      "recall at 30 1.1871412169919633\n",
      "mvn\n",
      "first_sec_phrase\n",
      "count ALL 518\n",
      "count 510\n",
      "median 32.75373263888889\n",
      "recall at 0 0.9768339768339769\n",
      "recall at 7 0.7084942084942085\n",
      "recall at 30 0.7084942084942085\n"
     ]
    }
   ],
   "source": [
    "def first_sec_phrase(delays_data_subset, label):\n",
    "    calculate_delays_ref(delays_data_subset, 'first_sec_phrase', label)\n",
    "\n",
    "first_sec_phrase(recall_data, 'All')\n",
    "first_sec_phrase(npm_subset, 'npm')\n",
    "first_sec_phrase(pypi_subset, 'pypi')\n",
    "first_sec_phrase(mvn_subset, 'mvn')"
   ]
  },
  {
   "cell_type": "code",
   "execution_count": 18,
   "metadata": {},
   "outputs": [
    {
     "name": "stdout",
     "output_type": "stream",
     "text": [
      "All\n",
      "first_sec_label\n",
      "count ALL 10504\n",
      "count 1051\n",
      "median 7.147210648148148\n",
      "recall at 0 0.08101675552170602\n",
      "recall at 7 0.05017136329017517\n",
      "recall at 30 0.05017136329017517\n",
      "npm\n",
      "first_sec_label\n",
      "count ALL 666\n",
      "count 44\n",
      "median 103.21917824074075\n",
      "recall at 0 0.06006006006006006\n",
      "recall at 7 0.05105105105105105\n",
      "recall at 30 0.05105105105105105\n",
      "pypi\n",
      "first_sec_label\n",
      "count ALL 871\n",
      "count 111\n",
      "median 0.8141898148148148\n",
      "recall at 0 0.08151549942594719\n",
      "recall at 7 0.04822043628013777\n",
      "recall at 30 0.04822043628013777\n",
      "mvn\n",
      "first_sec_label\n",
      "count ALL 518\n",
      "count 50\n",
      "median 4.655\n",
      "recall at 0 0.07722007722007722\n",
      "recall at 7 0.04633204633204633\n",
      "recall at 30 0.04633204633204633\n"
     ]
    }
   ],
   "source": [
    "def first_sec_label(delays_data_subset, label):\n",
    "    calculate_delays_issues(delays_data_subset, 'first_sec_label', label)\n",
    "\n",
    "first_sec_label(recall_data, 'All')\n",
    "first_sec_label(npm_subset, 'npm')\n",
    "first_sec_label(pypi_subset, 'pypi')\n",
    "first_sec_label(mvn_subset, 'mvn')"
   ]
  }
 ],
 "metadata": {
  "kernelspec": {
   "display_name": "Python 3.10.2 64-bit",
   "language": "python",
   "name": "python3"
  },
  "language_info": {
   "codemirror_mode": {
    "name": "ipython",
    "version": 3
   },
   "file_extension": ".py",
   "mimetype": "text/x-python",
   "name": "python",
   "nbconvert_exporter": "python",
   "pygments_lexer": "ipython3",
   "version": "3.10.2"
  },
  "orig_nbformat": 4,
  "vscode": {
   "interpreter": {
    "hash": "369f2c481f4da34e4445cda3fffd2e751bd1c4d706f27375911949ba6bb62e1c"
   }
  }
 },
 "nbformat": 4,
 "nbformat_minor": 2
}
